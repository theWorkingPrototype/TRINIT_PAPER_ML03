{
 "cells": [
  {
   "cell_type": "code",
   "execution_count": 8,
   "metadata": {},
   "outputs": [],
   "source": [
    "import pandas as pd\n",
    "import json\n",
    "\n"
   ]
  },
  {
   "cell_type": "code",
   "execution_count": 2,
   "metadata": {},
   "outputs": [],
   "source": [
    "df=pd.read_csv(\"rainfall.csv\")"
   ]
  },
  {
   "cell_type": "code",
   "execution_count": 3,
   "metadata": {},
   "outputs": [
    {
     "data": {
      "text/html": [
       "<div>\n",
       "<style scoped>\n",
       "    .dataframe tbody tr th:only-of-type {\n",
       "        vertical-align: middle;\n",
       "    }\n",
       "\n",
       "    .dataframe tbody tr th {\n",
       "        vertical-align: top;\n",
       "    }\n",
       "\n",
       "    .dataframe thead th {\n",
       "        text-align: right;\n",
       "    }\n",
       "</style>\n",
       "<table border=\"1\" class=\"dataframe\">\n",
       "  <thead>\n",
       "    <tr style=\"text-align: right;\">\n",
       "      <th></th>\n",
       "      <th>STATE_UT_NAME</th>\n",
       "      <th>DISTRICT</th>\n",
       "      <th>JAN</th>\n",
       "      <th>FEB</th>\n",
       "      <th>MAR</th>\n",
       "      <th>APR</th>\n",
       "      <th>MAY</th>\n",
       "      <th>JUN</th>\n",
       "      <th>JUL</th>\n",
       "      <th>AUG</th>\n",
       "      <th>SEP</th>\n",
       "      <th>OCT</th>\n",
       "      <th>NOV</th>\n",
       "      <th>DEC</th>\n",
       "      <th>ANNUAL</th>\n",
       "      <th>Jan-Feb</th>\n",
       "      <th>Mar-May</th>\n",
       "      <th>Jun-Sep</th>\n",
       "      <th>Oct-Dec</th>\n",
       "    </tr>\n",
       "  </thead>\n",
       "  <tbody>\n",
       "    <tr>\n",
       "      <th>0</th>\n",
       "      <td>ANDAMAN And NICOBAR ISLANDS</td>\n",
       "      <td>NICOBAR</td>\n",
       "      <td>107.3</td>\n",
       "      <td>57.9</td>\n",
       "      <td>65.2</td>\n",
       "      <td>117.0</td>\n",
       "      <td>358.5</td>\n",
       "      <td>295.5</td>\n",
       "      <td>285.0</td>\n",
       "      <td>271.9</td>\n",
       "      <td>354.8</td>\n",
       "      <td>326.0</td>\n",
       "      <td>315.2</td>\n",
       "      <td>250.9</td>\n",
       "      <td>2805.2</td>\n",
       "      <td>165.2</td>\n",
       "      <td>540.7</td>\n",
       "      <td>1207.2</td>\n",
       "      <td>892.1</td>\n",
       "    </tr>\n",
       "    <tr>\n",
       "      <th>1</th>\n",
       "      <td>ANDAMAN And NICOBAR ISLANDS</td>\n",
       "      <td>SOUTH ANDAMAN</td>\n",
       "      <td>43.7</td>\n",
       "      <td>26.0</td>\n",
       "      <td>18.6</td>\n",
       "      <td>90.5</td>\n",
       "      <td>374.4</td>\n",
       "      <td>457.2</td>\n",
       "      <td>421.3</td>\n",
       "      <td>423.1</td>\n",
       "      <td>455.6</td>\n",
       "      <td>301.2</td>\n",
       "      <td>275.8</td>\n",
       "      <td>128.3</td>\n",
       "      <td>3015.7</td>\n",
       "      <td>69.7</td>\n",
       "      <td>483.5</td>\n",
       "      <td>1757.2</td>\n",
       "      <td>705.3</td>\n",
       "    </tr>\n",
       "    <tr>\n",
       "      <th>2</th>\n",
       "      <td>ANDAMAN And NICOBAR ISLANDS</td>\n",
       "      <td>N &amp; M ANDAMAN</td>\n",
       "      <td>32.7</td>\n",
       "      <td>15.9</td>\n",
       "      <td>8.6</td>\n",
       "      <td>53.4</td>\n",
       "      <td>343.6</td>\n",
       "      <td>503.3</td>\n",
       "      <td>465.4</td>\n",
       "      <td>460.9</td>\n",
       "      <td>454.8</td>\n",
       "      <td>276.1</td>\n",
       "      <td>198.6</td>\n",
       "      <td>100.0</td>\n",
       "      <td>2913.3</td>\n",
       "      <td>48.6</td>\n",
       "      <td>405.6</td>\n",
       "      <td>1884.4</td>\n",
       "      <td>574.7</td>\n",
       "    </tr>\n",
       "    <tr>\n",
       "      <th>3</th>\n",
       "      <td>ARUNACHAL PRADESH</td>\n",
       "      <td>LOHIT</td>\n",
       "      <td>42.2</td>\n",
       "      <td>80.8</td>\n",
       "      <td>176.4</td>\n",
       "      <td>358.5</td>\n",
       "      <td>306.4</td>\n",
       "      <td>447.0</td>\n",
       "      <td>660.1</td>\n",
       "      <td>427.8</td>\n",
       "      <td>313.6</td>\n",
       "      <td>167.1</td>\n",
       "      <td>34.1</td>\n",
       "      <td>29.8</td>\n",
       "      <td>3043.8</td>\n",
       "      <td>123.0</td>\n",
       "      <td>841.3</td>\n",
       "      <td>1848.5</td>\n",
       "      <td>231.0</td>\n",
       "    </tr>\n",
       "    <tr>\n",
       "      <th>4</th>\n",
       "      <td>ARUNACHAL PRADESH</td>\n",
       "      <td>EAST SIANG</td>\n",
       "      <td>33.3</td>\n",
       "      <td>79.5</td>\n",
       "      <td>105.9</td>\n",
       "      <td>216.5</td>\n",
       "      <td>323.0</td>\n",
       "      <td>738.3</td>\n",
       "      <td>990.9</td>\n",
       "      <td>711.2</td>\n",
       "      <td>568.0</td>\n",
       "      <td>206.9</td>\n",
       "      <td>29.5</td>\n",
       "      <td>31.7</td>\n",
       "      <td>4034.7</td>\n",
       "      <td>112.8</td>\n",
       "      <td>645.4</td>\n",
       "      <td>3008.4</td>\n",
       "      <td>268.1</td>\n",
       "    </tr>\n",
       "  </tbody>\n",
       "</table>\n",
       "</div>"
      ],
      "text/plain": [
       "                 STATE_UT_NAME       DISTRICT    JAN   FEB    MAR    APR  \\\n",
       "0  ANDAMAN And NICOBAR ISLANDS        NICOBAR  107.3  57.9   65.2  117.0   \n",
       "1  ANDAMAN And NICOBAR ISLANDS  SOUTH ANDAMAN   43.7  26.0   18.6   90.5   \n",
       "2  ANDAMAN And NICOBAR ISLANDS  N & M ANDAMAN   32.7  15.9    8.6   53.4   \n",
       "3            ARUNACHAL PRADESH          LOHIT   42.2  80.8  176.4  358.5   \n",
       "4            ARUNACHAL PRADESH     EAST SIANG   33.3  79.5  105.9  216.5   \n",
       "\n",
       "     MAY    JUN    JUL    AUG    SEP    OCT    NOV    DEC  ANNUAL  Jan-Feb  \\\n",
       "0  358.5  295.5  285.0  271.9  354.8  326.0  315.2  250.9  2805.2    165.2   \n",
       "1  374.4  457.2  421.3  423.1  455.6  301.2  275.8  128.3  3015.7     69.7   \n",
       "2  343.6  503.3  465.4  460.9  454.8  276.1  198.6  100.0  2913.3     48.6   \n",
       "3  306.4  447.0  660.1  427.8  313.6  167.1   34.1   29.8  3043.8    123.0   \n",
       "4  323.0  738.3  990.9  711.2  568.0  206.9   29.5   31.7  4034.7    112.8   \n",
       "\n",
       "   Mar-May  Jun-Sep  Oct-Dec  \n",
       "0    540.7   1207.2    892.1  \n",
       "1    483.5   1757.2    705.3  \n",
       "2    405.6   1884.4    574.7  \n",
       "3    841.3   1848.5    231.0  \n",
       "4    645.4   3008.4    268.1  "
      ]
     },
     "execution_count": 3,
     "metadata": {},
     "output_type": "execute_result"
    }
   ],
   "source": [
    "df.head()"
   ]
  },
  {
   "cell_type": "code",
   "execution_count": 5,
   "metadata": {},
   "outputs": [],
   "source": [
    "location=df[['STATE_UT_NAME','DISTRICT']]"
   ]
  },
  {
   "cell_type": "code",
   "execution_count": 6,
   "metadata": {},
   "outputs": [],
   "source": [
    "states=location['STATE_UT_NAME'].unique()"
   ]
  },
  {
   "cell_type": "code",
   "execution_count": 35,
   "metadata": {},
   "outputs": [],
   "source": [
    "dict={}\n",
    "for i in states:\n",
    "    dict[i]=list(location[location['STATE_UT_NAME']==i]['DISTRICT'])\n",
    "\n",
    "dict['STATES']=list(states)"
   ]
  },
  {
   "cell_type": "code",
   "execution_count": 30,
   "metadata": {},
   "outputs": [
    {
     "data": {
      "text/plain": [
       "dict_keys(['ANDAMAN And NICOBAR ISLANDS', 'ARUNACHAL PRADESH', 'ASSAM', 'MEGHALAYA', 'MANIPUR', 'MIZORAM', 'NAGALAND', 'TRIPURA', 'WEST BENGAL', 'SIKKIM', 'ORISSA', 'JHARKHAND', 'BIHAR', 'UTTAR PRADESH', 'UTTARANCHAL', 'HARYANA', 'CHANDIGARH', 'DELHI', 'PUNJAB', 'HIMACHAL', 'JAMMU AND KASHMIR', 'RAJASTHAN', 'MADHYA PRADESH', 'GUJARAT', 'DADAR NAGAR HAVELI', 'DAMAN AND DUI', 'MAHARASHTRA', 'GOA', 'CHATISGARH', 'ANDHRA PRADESH', 'TAMIL NADU', 'PONDICHERRY', 'KARNATAKA', 'KERALA', 'LAKSHADWEEP', 'STATES'])"
      ]
     },
     "execution_count": 30,
     "metadata": {},
     "output_type": "execute_result"
    }
   ],
   "source": [
    "dict.keys()"
   ]
  },
  {
   "cell_type": "code",
   "execution_count": 36,
   "metadata": {},
   "outputs": [],
   "source": [
    "with open('district', 'w') as file:\n",
    "    file.write(json.dumps(dict, indent=4))"
   ]
  }
 ],
 "metadata": {
  "kernelspec": {
   "display_name": "Python 3",
   "language": "python",
   "name": "python3"
  },
  "language_info": {
   "codemirror_mode": {
    "name": "ipython",
    "version": 3
   },
   "file_extension": ".py",
   "mimetype": "text/x-python",
   "name": "python",
   "nbconvert_exporter": "python",
   "pygments_lexer": "ipython3",
   "version": "3.10.4"
  },
  "orig_nbformat": 4,
  "vscode": {
   "interpreter": {
    "hash": "af45c3af30c42971a3c78755035487eb6fd616bf5299be30e1a131c8bf1a2204"
   }
  }
 },
 "nbformat": 4,
 "nbformat_minor": 2
}
